{
 "cells": [
  {
   "cell_type": "code",
   "execution_count": 4,
   "id": "a0b7a5e1",
   "metadata": {},
   "outputs": [],
   "source": [
    "#Importing Libraries\n",
    "import cv2"
   ]
  },
  {
   "cell_type": "code",
   "execution_count": 5,
   "id": "f58fb9a5",
   "metadata": {},
   "outputs": [],
   "source": [
    "#getting video stream\n",
    "video = cv2.VideoCapture(0)\n",
    "#address = \"http://10.99.251.89:8080/video\"\n",
    "#video.open(address)"
   ]
  },
  {
   "cell_type": "code",
   "execution_count": 7,
   "id": "a61d8cb5",
   "metadata": {},
   "outputs": [],
   "source": [
    "#setting up video stream and capturing photos\n",
    "i = 0\n",
    "while True:\n",
    "    ret, frame = video.read()\n",
    "    gray = cv2.cvtColor(frame, cv2.COLOR_RGB2GRAY)\n",
    "\n",
    "    cv2.imshow('Video', frame)\n",
    "    key = cv2.waitKey(1) & 0xFF\n",
    "\n",
    "    if key == ord(\"c\"):#press \"c\" to capture a picture\n",
    "        cv2.imwrite(str(i)+\".jpg\",frame)\n",
    "        i=i+1\n",
    "        print(\"Captured a photo\")\n",
    "\n",
    "    if cv2.waitKey(1) & 0xFF == ord('q'):#press \"q\" to quit\n",
    "        break"
   ]
  },
  {
   "cell_type": "code",
   "execution_count": 8,
   "id": "5c971630",
   "metadata": {},
   "outputs": [],
   "source": [
    "video.release()\n",
    "cv2.destroyAllWindows()"
   ]
  },
  {
   "cell_type": "code",
   "execution_count": null,
   "id": "521a740e",
   "metadata": {},
   "outputs": [],
   "source": []
  }
 ],
 "metadata": {
  "kernelspec": {
   "display_name": "Python 3 (ipykernel)",
   "language": "python",
   "name": "python3"
  },
  "language_info": {
   "codemirror_mode": {
    "name": "ipython",
    "version": 3
   },
   "file_extension": ".py",
   "mimetype": "text/x-python",
   "name": "python",
   "nbconvert_exporter": "python",
   "pygments_lexer": "ipython3",
   "version": "3.9.12"
  }
 },
 "nbformat": 4,
 "nbformat_minor": 5
}
