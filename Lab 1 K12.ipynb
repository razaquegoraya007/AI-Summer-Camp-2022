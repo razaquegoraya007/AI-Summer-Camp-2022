{
 "cells": [
  {
   "cell_type": "code",
   "execution_count": 1,
   "id": "9a070f1b",
   "metadata": {},
   "outputs": [],
   "source": [
    "#importing required libraries\n",
    "import cv2"
   ]
  },
  {
   "cell_type": "code",
   "execution_count": 2,
   "id": "5b7bcb35",
   "metadata": {},
   "outputs": [
    {
     "data": {
      "text/plain": [
       "True"
      ]
     },
     "execution_count": 2,
     "metadata": {},
     "output_type": "execute_result"
    }
   ],
   "source": [
    "#getting the video stream from smartphone's camera\n",
    "video= cv2.VideoCapture(0)\n",
    "#address = \"http://10.102.130.71:8080/video\"\n",
    "#video.open(address)"
   ]
  },
  {
   "cell_type": "code",
   "execution_count": null,
   "id": "14651e4f",
   "metadata": {},
   "outputs": [],
   "source": [
    "#setting up the environment for camera\n",
    "while True:\n",
    "    ret, frame = video.read()\n",
    "    cv2.imshow('Video',frame)\n",
    "    key = cv2.waitKey(1) & 0xFF\n",
    "    if key == ord('q'):\n",
    "        break"
   ]
  },
  {
   "cell_type": "code",
   "execution_count": null,
   "id": "9db29a0e",
   "metadata": {},
   "outputs": [],
   "source": [
    "#closing the camera window\n",
    "video.release()\n",
    "cv2.destroyAllWindows()"
   ]
  }
 ],
 "metadata": {
  "kernelspec": {
   "display_name": "Python 3 (ipykernel)",
   "language": "python",
   "name": "python3"
  },
  "language_info": {
   "codemirror_mode": {
    "name": "ipython",
    "version": 3
   },
   "file_extension": ".py",
   "mimetype": "text/x-python",
   "name": "python",
   "nbconvert_exporter": "python",
   "pygments_lexer": "ipython3",
   "version": "3.9.12"
  }
 },
 "nbformat": 4,
 "nbformat_minor": 5
}
