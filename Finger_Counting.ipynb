{
 "cells": [
  {
   "cell_type": "code",
   "execution_count": 1,
   "id": "5aa476b5",
   "metadata": {},
   "outputs": [],
   "source": [
    "import cv2\n",
    "import mediapipe as mp\n",
    "cap = cv2.VideoCapture(0)\n",
    "#address = \"https://10.102.130.69:8080/video\"\n",
    "#cap.open(address)\n",
    "mp_Hands = mp.solutions.hands\n",
    "hands = mp_Hands.Hands()\n",
    "mpDraw = mp.solutions.drawing_utils\n",
    "finger_Coord = [(8, 6), (12, 10), (16, 14), (20, 18)]\n",
    "thumb_Coord = (4,2)\n",
    "while True:\n",
    "    success, image = cap.read()\n",
    "    RGB_image = cv2.cvtColor(image, cv2.COLOR_BGR2RGB)\n",
    "    results = hands.process(RGB_image)\n",
    "    multiLandMarks = results.multi_hand_landmarks\n",
    "    if multiLandMarks:\n",
    "        handList = []\n",
    "        for handLms in multiLandMarks:\n",
    "            mpDraw.draw_landmarks(image, handLms, mp_Hands.HAND_CONNECTIONS)\n",
    "            for idx, lm in enumerate(handLms.landmark):\n",
    "                h, w, c = image.shape\n",
    "                cx, cy = int(lm.x * w), int(lm.y * h)\n",
    "                handList.append((cx, cy))\n",
    "        for point in handList:\n",
    "            cv2.circle(image, point, 10, (255, 255, 0), cv2.FILLED)\n",
    "        upCount = 0\n",
    "        for coordinate in finger_Coord:\n",
    "            if handList[coordinate[0]][1] < handList[coordinate[1]][1]:\n",
    "                upCount += 1\n",
    "        if handList[thumb_Coord[0]][0] > handList[thumb_Coord[1]][0]:\n",
    "            upCount += 1\n",
    "        cv2.putText(image, str(upCount), (150,150), cv2.FONT_HERSHEY_PLAIN, 12, (0,255,0), 12)\n",
    "\n",
    "    cv2.imshow(\"Counting number of fingers\", image)\n",
    "    cv2.waitKey(1)\n",
    "    if cv2.waitKey(1) & 0xff==ord(' '): #By using spacebar delay will stop\n",
    "        break\n",
    "        \n",
    "cap.release()     #stop cam       \n",
    "cv2.destroyAllWindows() #close window "
   ]
  },
  {
   "cell_type": "code",
   "execution_count": null,
   "id": "013c6725",
   "metadata": {},
   "outputs": [],
   "source": []
  }
 ],
 "metadata": {
  "kernelspec": {
   "display_name": "Python 3 (ipykernel)",
   "language": "python",
   "name": "python3"
  },
  "language_info": {
   "codemirror_mode": {
    "name": "ipython",
    "version": 3
   },
   "file_extension": ".py",
   "mimetype": "text/x-python",
   "name": "python",
   "nbconvert_exporter": "python",
   "pygments_lexer": "ipython3",
   "version": "3.9.12"
  }
 },
 "nbformat": 4,
 "nbformat_minor": 5
}
