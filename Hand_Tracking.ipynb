{
 "cells": [
  {
   "cell_type": "code",
   "execution_count": 2,
   "id": "99b90c02",
   "metadata": {},
   "outputs": [],
   "source": [
    "import cv2\n",
    "import mediapipe as mp\n",
    "from math import hypot\n",
    "from ctypes import cast, POINTER\n",
    "from comtypes import CLSCTX_ALL\n",
    "from pycaw.pycaw import AudioUtilities, IAudioEndpointVolume\n",
    "import numpy as np\n",
    "import cv2\n",
    "import mediapipe as mp\n",
    "from math import hypot\n",
    "from ctypes import cast, POINTER\n",
    "from comtypes import CLSCTX_ALL\n",
    "from pycaw.pycaw import AudioUtilities, IAudioEndpointVolume\n",
    "import numpy as np\n",
    " \n",
    "cap = cv2.VideoCapture(0) #Checks for camera\n",
    " \n",
    "mpHands = mp.solutions.hands #detects hand/finger\n",
    "hands = mpHands.Hands()   #complete the initialization configuration of hands\n",
    "mpDraw = mp.solutions.drawing_utils\n",
    " \n",
    "while True:\n",
    "    success,img = cap.read() #If camera works capture an image\n",
    "    imgRGB = cv2.cvtColor(img,cv2.COLOR_BGR2RGB) #Convert to rgb\n",
    "    \n",
    "    #Collection of gesture information\n",
    "    results = hands.process(imgRGB) #completes the image processing.\n",
    " \n",
    "    lmList = [] #empty list\n",
    "    if results.multi_hand_landmarks: #list of all hands detected.\n",
    "        #By accessing the list, we can get the information of each hand's corresponding flag bit\n",
    "        for handlandmark in results.multi_hand_landmarks:\n",
    "            for id,lm in enumerate(handlandmark.landmark): #adding counter and returning it\n",
    "                # Get finger joint points\n",
    "                h,w,_ = img.shape\n",
    "                cx,cy = int(lm.x*w),int(lm.y*h)\n",
    "                lmList.append([id,cx,cy]) #adding to the empty list 'lmList'\n",
    "            mpDraw.draw_landmarks(img,handlandmark,mpHands.HAND_CONNECTIONS) \n",
    "\n",
    "    cv2.imshow('Image',img) #Show the video \n",
    "    if cv2.waitKey(1) & 0xff==ord(' '): #By using spacebar delay will stop\n",
    "        break\n",
    "        \n",
    "cap.release()     #stop cam       \n",
    "cv2.destroyAllWindows() #close window "
   ]
  },
  {
   "cell_type": "code",
   "execution_count": null,
   "id": "274afa8e",
   "metadata": {},
   "outputs": [],
   "source": [
    "https://codeshare.io/bvydLv"
   ]
  }
 ],
 "metadata": {
  "kernelspec": {
   "display_name": "Python 3 (ipykernel)",
   "language": "python",
   "name": "python3"
  },
  "language_info": {
   "codemirror_mode": {
    "name": "ipython",
    "version": 3
   },
   "file_extension": ".py",
   "mimetype": "text/x-python",
   "name": "python",
   "nbconvert_exporter": "python",
   "pygments_lexer": "ipython3",
   "version": "3.9.12"
  }
 },
 "nbformat": 4,
 "nbformat_minor": 5
}
